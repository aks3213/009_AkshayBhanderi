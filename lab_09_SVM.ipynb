{
  "nbformat": 4,
  "nbformat_minor": 0,
  "metadata": {
    "colab": {
      "name": "Lab_09_SVM.ipynb",
      "provenance": [],
      "authorship_tag": "ABX9TyPyFOi1X7QabRhUqAeODVF7",
      "include_colab_link": true
    },
    "kernelspec": {
      "display_name": "Python 3",
      "name": "python3"
    },
    "language_info": {
      "name": "python"
    }
  },
  "cells": [
    {
      "cell_type": "markdown",
      "metadata": {
        "id": "view-in-github",
        "colab_type": "text"
      },
      "source": [
        "<a href=\"https://colab.research.google.com/github/aks3213/009_AkshayBhanderi/blob/main/Lab_09_SVM.ipynb\" target=\"_parent\"><img src=\"https://colab.research.google.com/assets/colab-badge.svg\" alt=\"Open In Colab\"/></a>"
      ]
    },
    {
      "cell_type": "code",
      "metadata": {
        "id": "Lzc-QgPFI3Qn"
      },
      "source": [
        "# Assignment:\n",
        "\n",
        "# Try SVM classifier on MNIST dataset, compare the preformance of linear, polynomial and RBF kernels.\n"
      ],
      "execution_count": null,
      "outputs": []
    },
    {
      "cell_type": "code",
      "metadata": {
        "id": "y7i6sYy9JNSd"
      },
      "source": [
        "#importing modules\n",
        "\n",
        "import numpy as np\n",
        "import matplotlib.pyplot as plt\n",
        "from sklearn import metrics\n",
        "from sklearn.svm import SVC\n",
        "from tensorflow.keras import datasets\n",
        "from sklearn.model_selection import train_test_split"
      ],
      "execution_count": null,
      "outputs": []
    },
    {
      "cell_type": "code",
      "metadata": {
        "colab": {
          "base_uri": "https://localhost:8080/"
        },
        "id": "Kzoh87pQJTiS",
        "outputId": "63059577-fd83-482d-ec56-83859b4966b5"
      },
      "source": [
        "#train mmodel\n",
        "\n",
        "(x_train, y_train), (x_test, y_test) = datasets.mnist.load_data() "
      ],
      "execution_count": null,
      "outputs": [
        {
          "name": "stdout",
          "output_type": "stream",
          "text": [
            "Downloading data from https://storage.googleapis.com/tensorflow/tf-keras-datasets/mnist.npz\n",
            "11493376/11490434 [==============================] - 0s 0us/step\n",
            "11501568/11490434 [==============================] - 0s 0us/step\n"
          ]
        }
      ]
    },
    {
      "cell_type": "code",
      "metadata": {
        "colab": {
          "base_uri": "https://localhost:8080/"
        },
        "id": "iyIhWbNXJY9o",
        "outputId": "d8b60bd5-a053-4769-d347-7f66a72bed0d"
      },
      "source": [
        "x_train.shape"
      ],
      "execution_count": null,
      "outputs": [
        {
          "data": {
            "text/plain": [
              "(60000, 28, 28)"
            ]
          },
          "execution_count": 4,
          "metadata": {},
          "output_type": "execute_result"
        }
      ]
    },
    {
      "cell_type": "code",
      "metadata": {
        "colab": {
          "base_uri": "https://localhost:8080/"
        },
        "id": "gBQuCdtcJjP3",
        "outputId": "bcd5b9ec-d54b-41cf-89ce-0627488d1ea8"
      },
      "source": [
        "x_test.shape"
      ],
      "execution_count": null,
      "outputs": [
        {
          "data": {
            "text/plain": [
              "(10000, 28, 28)"
            ]
          },
          "execution_count": 7,
          "metadata": {},
          "output_type": "execute_result"
        }
      ]
    },
    {
      "cell_type": "code",
      "metadata": {
        "colab": {
          "base_uri": "https://localhost:8080/"
        },
        "id": "tLzkjQ0iJkbl",
        "outputId": "fdb66a1f-47a1-495f-c069-6b583cc8c031"
      },
      "source": [
        "y_train.shape"
      ],
      "execution_count": null,
      "outputs": [
        {
          "data": {
            "text/plain": [
              "(60000,)"
            ]
          },
          "execution_count": 6,
          "metadata": {},
          "output_type": "execute_result"
        }
      ]
    },
    {
      "cell_type": "code",
      "metadata": {
        "colab": {
          "base_uri": "https://localhost:8080/"
        },
        "id": "1EnKsYFDJlo3",
        "outputId": "994b5dc3-951f-47d5-a3ec-3a0de0991583"
      },
      "source": [
        "y_test.shape"
      ],
      "execution_count": null,
      "outputs": [
        {
          "data": {
            "text/plain": [
              "(10000,)"
            ]
          },
          "execution_count": 8,
          "metadata": {},
          "output_type": "execute_result"
        }
      ]
    },
    {
      "cell_type": "code",
      "metadata": {
        "id": "NH-wsp8AJtUX"
      },
      "source": [
        "x_train = x_train.reshape(-1,28*28)\n",
        "x_test=x_test.reshape(-1,28*28)"
      ],
      "execution_count": null,
      "outputs": []
    },
    {
      "cell_type": "code",
      "metadata": {
        "colab": {
          "base_uri": "https://localhost:8080/"
        },
        "id": "2AECVQ6YJwZM",
        "outputId": "68019dbe-6c53-4721-aaf6-e773ddec4134"
      },
      "source": [
        "x_train.shape"
      ],
      "execution_count": null,
      "outputs": [
        {
          "data": {
            "text/plain": [
              "(60000, 784)"
            ]
          },
          "execution_count": 10,
          "metadata": {},
          "output_type": "execute_result"
        }
      ]
    },
    {
      "cell_type": "code",
      "metadata": {
        "colab": {
          "base_uri": "https://localhost:8080/"
        },
        "id": "34xNsEaWJyab",
        "outputId": "e6465ec3-0987-4ebd-b8d4-caf25aa2a5a6"
      },
      "source": [
        "x_test.shape"
      ],
      "execution_count": null,
      "outputs": [
        {
          "data": {
            "text/plain": [
              "(10000, 784)"
            ]
          },
          "execution_count": 11,
          "metadata": {},
          "output_type": "execute_result"
        }
      ]
    },
    {
      "cell_type": "code",
      "metadata": {
        "id": "-mWv5CMJJ0FL"
      },
      "source": [
        "x_train=x_train/255\n",
        "x_test=x_test/255"
      ],
      "execution_count": null,
      "outputs": []
    },
    {
      "cell_type": "code",
      "metadata": {
        "id": "EfPb3HwrJ3J6"
      },
      "source": [
        "#linear model\n",
        "\n",
        "model = SVC(kernel='linear',random_state=9) \n",
        "model.fit(x_train,y_train)\n",
        "pred = model.predict(x_test)"
      ],
      "execution_count": null,
      "outputs": []
    },
    {
      "cell_type": "code",
      "metadata": {
        "colab": {
          "base_uri": "https://localhost:8080/"
        },
        "id": "ppLNnJHIJ9fs",
        "outputId": "cfa54c73-1fbe-49e4-cebb-60d9d504b3d2"
      },
      "source": [
        "print(pred)"
      ],
      "execution_count": null,
      "outputs": [
        {
          "name": "stdout",
          "output_type": "stream",
          "text": [
            "[7 2 1 ... 4 5 6]\n"
          ]
        }
      ]
    },
    {
      "cell_type": "code",
      "metadata": {
        "colab": {
          "base_uri": "https://localhost:8080/"
        },
        "id": "--l5TpxqKCYR",
        "outputId": "c34e6c3b-4261-4bcc-c806-dc8502327d33"
      },
      "source": [
        "from sklearn import metrics\n",
        "print(\"Accuracy:\",metrics.accuracy_score(y_test, pred))\n",
        "print(\"Precision Score : \",metrics.precision_score(y_test, pred, pos_label='positive' ,average='micro'))\n",
        "print(\"Recall Score : \",metrics.recall_score(y_test, pred, pos_label='positive',average='micro'))"
      ],
      "execution_count": null,
      "outputs": [
        {
          "name": "stdout",
          "output_type": "stream",
          "text": [
            "Accuracy: 0.9404\n",
            "Precision Score :  0.9404\n",
            "Recall Score :  0.9404\n"
          ]
        },
        {
          "name": "stderr",
          "output_type": "stream",
          "text": [
            "/usr/local/lib/python3.7/dist-packages/sklearn/metrics/_classification.py:1321: UserWarning: Note that pos_label (set to 'positive') is ignored when average != 'binary' (got 'micro'). You may use labels=[pos_label] to specify a single positive class.\n",
            "  % (pos_label, average), UserWarning)\n"
          ]
        }
      ]
    },
    {
      "cell_type": "code",
      "metadata": {
        "id": "bqipOQ0wOsUe"
      },
      "source": [
        "#RBF model\n",
        "\n",
        "from sklearn.svm import SVC\n",
        "model2 = SVC(kernel='rbf',gamma='scale',random_state=1)\n",
        "model2.fit(x_train,y_train)\n",
        "pred2 = model2.predict(x_test)"
      ],
      "execution_count": 17,
      "outputs": []
    },
    {
      "cell_type": "code",
      "metadata": {
        "id": "O8CGf537OyGL",
        "colab": {
          "base_uri": "https://localhost:8080/"
        },
        "outputId": "a2fe3f98-d696-413f-d084-a2d552a5e99f"
      },
      "source": [
        "from sklearn import metrics\n",
        "print(\"Accuracy:\",metrics.accuracy_score(y_test, pred2))\n",
        "print(\"Precision Score : \",metrics.precision_score(y_test, pred2, pos_label='positive' ,average='micro'))\n",
        "print(\"Recall Score : \",metrics.recall_score(y_test, pred2, pos_label='positive',average='micro'))"
      ],
      "execution_count": 18,
      "outputs": [
        {
          "output_type": "stream",
          "name": "stdout",
          "text": [
            "Accuracy: 0.9792\n",
            "Precision Score :  0.9792\n",
            "Recall Score :  0.9792\n"
          ]
        },
        {
          "output_type": "stream",
          "name": "stderr",
          "text": [
            "/usr/local/lib/python3.7/dist-packages/sklearn/metrics/_classification.py:1321: UserWarning: Note that pos_label (set to 'positive') is ignored when average != 'binary' (got 'micro'). You may use labels=[pos_label] to specify a single positive class.\n",
            "  % (pos_label, average), UserWarning)\n"
          ]
        }
      ]
    }
  ]
}
