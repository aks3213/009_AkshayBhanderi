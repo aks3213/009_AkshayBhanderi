{
  "nbformat": 4,
  "nbformat_minor": 0,
  "metadata": {
    "colab": {
      "name": "Lab_03_digits_Processing.ipynb",
      "provenance": [],
      "authorship_tag": "ABX9TyN8xHHgkgfsgRzURP++X0vy",
      "include_colab_link": true
    },
    "kernelspec": {
      "name": "python3",
      "display_name": "Python 3"
    },
    "language_info": {
      "name": "python"
    }
  },
  "cells": [
    {
      "cell_type": "markdown",
      "metadata": {
        "id": "view-in-github",
        "colab_type": "text"
      },
      "source": [
        "<a href=\"https://colab.research.google.com/github/aks3213/009_AkshayBhanderi/blob/main/Lab_03_digits_Processing.ipynb\" target=\"_parent\"><img src=\"https://colab.research.google.com/assets/colab-badge.svg\" alt=\"Open In Colab\"/></a>"
      ]
    },
    {
      "cell_type": "code",
      "metadata": {
        "id": "3hO42GCuDPag"
      },
      "source": [
        "#importing modules\n",
        "import numpy as np\n",
        "import pandas as pd\n",
        "import matplotlib.pyplot as plt\n",
        "from sklearn import datasets, preprocessing\n",
        "\n",
        "# naive and gaussian model\n",
        "from sklearn.naive_bayes import GaussianNB, MultinomialNB\n",
        "from sklearn.model_selection import train_test_split\n",
        "\n",
        "# for accuracy\n",
        "from sklearn import metrics\n",
        "\n",
        "# print precision and recall\n",
        "from sklearn.metrics import precision_score\n",
        "from sklearn.metrics import recall_score\n",
        "from sklearn.datasets import load_digits"
      ],
      "execution_count": 1,
      "outputs": []
    },
    {
      "cell_type": "code",
      "metadata": {
        "colab": {
          "base_uri": "https://localhost:8080/"
        },
        "id": "zvdq7mj-DANG",
        "outputId": "531b6d77-f83b-4d53-e257-7a263a1c3d40"
      },
      "source": [
        "from google.colab import drive\n",
        "drive.mount(\"/content/drive\")"
      ],
      "execution_count": 2,
      "outputs": [
        {
          "output_type": "stream",
          "text": [
            "Mounted at /content/drive\n"
          ],
          "name": "stdout"
        }
      ]
    },
    {
      "cell_type": "code",
      "metadata": {
        "colab": {
          "base_uri": "https://localhost:8080/",
          "height": 212
        },
        "id": "WL-S_SbSDwgX",
        "outputId": "16fb9c34-dc46-46d0-d494-5735fecccc10"
      },
      "source": [
        "# Loading digits dataset from sklearn module\n",
        "\n",
        "main_data = load_digits()\n",
        "\n",
        "plt.figure(figsize = (10,15))\n",
        "\n",
        "for i in range(10):\n",
        "    plt.subplot(8, 8, i + 1)\n",
        "    plt.imshow(main_data.images[i])"
      ],
      "execution_count": 5,
      "outputs": [
        {
          "output_type": "display_data",
          "data": {
            "image/png": "[encoded data removed]",
            "text/plain": [
              "<Figure size 720x1080 with 10 Axes>"
            ]
          },
          "metadata": {
            "tags": [],
            "needs_background": "light"
          }
        }
      ]
    },
    {
      "cell_type": "code",
      "metadata": {
        "id": "Ah_F9hJJD_AE"
      },
      "source": [
        "#spliting  training test 80% - 20%\n",
        "\n",
        "from sklearn.model_selection import train_test_split\n",
        "\n",
        "X_train, X_test, Y_train, Y_test = train_test_split(main_data.data, main_data.target, test_size = 0.20, random_state = 48)"
      ],
      "execution_count": 6,
      "outputs": []
    },
    {
      "cell_type": "code",
      "metadata": {
        "colab": {
          "base_uri": "https://localhost:8080/"
        },
        "id": "a-Axlq1_EKpc",
        "outputId": "50a54a7f-7ab6-4868-b4cd-6cb88950efdd"
      },
      "source": [
        "# Gaussina models\n",
        "\n",
        "gnb = GaussianNB()\n",
        "\n",
        "# train model\n",
        "gnb.fit(X_train, Y_train)\n",
        "\n",
        "# training completed\n",
        "Y_predicted = gnb.predict(X_test)\n",
        "\n",
        "print(f\"Accuracy :- {metrics.accuracy_score(Y_test, Y_predicted)}\")"
      ],
      "execution_count": 7,
      "outputs": [
        {
          "output_type": "stream",
          "text": [
            "Accuracy :- 0.8333333333333334\n"
          ],
          "name": "stdout"
        }
      ]
    },
    {
      "cell_type": "code",
      "metadata": {
        "colab": {
          "base_uri": "https://localhost:8080/"
        },
        "id": "aR83AjdsET_3",
        "outputId": "32ea0c86-329d-4d9d-dfd5-fe314aa5cdb7"
      },
      "source": [
        "main_data.images[3]"
      ],
      "execution_count": 8,
      "outputs": [
        {
          "output_type": "execute_result",
          "data": {
            "text/plain": [
              "array([[ 0.,  0.,  7., 15., 13.,  1.,  0.,  0.],\n",
              "       [ 0.,  8., 13.,  6., 15.,  4.,  0.,  0.],\n",
              "       [ 0.,  2.,  1., 13., 13.,  0.,  0.,  0.],\n",
              "       [ 0.,  0.,  2., 15., 11.,  1.,  0.,  0.],\n",
              "       [ 0.,  0.,  0.,  1., 12., 12.,  1.,  0.],\n",
              "       [ 0.,  0.,  0.,  0.,  1., 10.,  8.,  0.],\n",
              "       [ 0.,  0.,  8.,  4.,  5., 14.,  9.,  0.],\n",
              "       [ 0.,  0.,  7., 13., 13.,  9.,  0.,  0.]])"
            ]
          },
          "metadata": {
            "tags": []
          },
          "execution_count": 8
        }
      ]
    },
    {
      "cell_type": "code",
      "metadata": {
        "colab": {
          "base_uri": "https://localhost:8080/",
          "height": 168
        },
        "id": "AiPhYXpzEn-J",
        "outputId": "7d18a006-754f-40fd-b37f-5c7a11c596f5"
      },
      "source": [
        "#true pridiction\n",
        "\n",
        "_, axes = plt.subplots(nrows=1, ncols=4, figsize=(10, 3))\n",
        "for ax, image, prediction in zip(axes, X_test, Y_predicted):\n",
        "    ax.set_axis_off()\n",
        "    image = image.reshape(8, 8)\n",
        "    ax.imshow(image, cmap=plt.cm.gray_r, interpolation='nearest')\n",
        "    ax.set_title(f'Prediction: {prediction}')"
      ],
      "execution_count": 13,
      "outputs": [
        {
          "output_type": "display_data",
          "data": {
            "image/png": "[encoded data removed]",
            "text/plain": [
              "<Figure size 720x216 with 4 Axes>"
            ]
          },
          "metadata": {
            "tags": [],
            "needs_background": "light"
          }
        }
      ]
    },
    {
      "cell_type": "code",
      "metadata": {
        "colab": {
          "base_uri": "https://localhost:8080/"
        },
        "id": "X14Fpd9CFfIu",
        "outputId": "2036e14b-706d-40ad-974f-e20b1d67630e"
      },
      "source": [
        "\n",
        "print(f\"Classification report for classifier {gnb}:\\n\"\n",
        "      f\"{metrics.classification_report(Y_test, Y_predicted)}\\n\")"
      ],
      "execution_count": 11,
      "outputs": [
        {
          "output_type": "stream",
          "text": [
            "Classification report for classifier GaussianNB(priors=None, var_smoothing=1e-09):\n",
            "              precision    recall  f1-score   support\n",
            "\n",
            "           0       1.00      0.97      0.99        36\n",
            "           1       0.66      0.95      0.78        43\n",
            "           2       0.91      0.76      0.83        42\n",
            "           3       0.89      0.76      0.82        33\n",
            "           4       0.94      0.77      0.85        44\n",
            "           5       0.94      0.71      0.81        24\n",
            "           6       0.91      0.95      0.93        43\n",
            "           7       0.68      1.00      0.81        25\n",
            "           8       0.69      0.68      0.68        40\n",
            "           9       0.92      0.77      0.84        30\n",
            "\n",
            "    accuracy                           0.83       360\n",
            "   macro avg       0.86      0.83      0.83       360\n",
            "weighted avg       0.86      0.83      0.83       360\n",
            "\n",
            "\n"
          ],
          "name": "stdout"
        }
      ]
    },
    {
      "cell_type": "code",
      "metadata": {
        "colab": {
          "base_uri": "https://localhost:8080/",
          "height": 493
        },
        "id": "wC3ynos4Fjkp",
        "outputId": "7660e84c-b609-46e2-ee6d-aa5be8d77765"
      },
      "source": [
        "disp = metrics.plot_confusion_matrix(gnb, X_test, Y_test)\n",
        "disp.figure_.suptitle(\"Confusion Matrix\")\n",
        "print(f\"Confusion matrix:\\n{disp.confusion_matrix}\")\n",
        "\n",
        "plt.show()"
      ],
      "execution_count": 12,
      "outputs": [
        {
          "output_type": "stream",
          "text": [
            "Confusion matrix:\n",
            "[[35  1  0  0  0  0  0  0  0  0]\n",
            " [ 0 41  0  0  0  0  0  0  2  0]\n",
            " [ 0  2 32  1  0  0  2  0  5  0]\n",
            " [ 0  1  3 25  0  0  0  0  3  1]\n",
            " [ 0  3  0  0 34  0  1  5  1  0]\n",
            " [ 0  2  0  1  0 17  0  3  0  1]\n",
            " [ 0  1  0  0  1  0 41  0  0  0]\n",
            " [ 0  0  0  0  0  0  0 25  0  0]\n",
            " [ 0  8  0  1  0  0  0  4 27  0]\n",
            " [ 0  3  0  0  1  1  1  0  1 23]]\n"
          ],
          "name": "stdout"
        },
        {
          "output_type": "display_data",
          "data": {
            "image/png": "[encoded data removed]",
            "text/plain": [
              "<Figure size 432x288 with 2 Axes>"
            ]
          },
          "metadata": {
            "tags": [],
            "needs_background": "light"
          }
        }
      ]
    }
  ]
}