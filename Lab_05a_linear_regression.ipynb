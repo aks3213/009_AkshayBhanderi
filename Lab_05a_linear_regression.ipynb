{
  "nbformat": 4,
  "nbformat_minor": 0,
  "metadata": {
    "kernelspec": {
      "display_name": "Python 3",
      "language": "python",
      "name": "python3"
    },
    "language_info": {
      "name": "python",
      "version": "3.6.6",
      "mimetype": "text/x-python",
      "codemirror_mode": {
        "name": "ipython",
        "version": 3
      },
      "pygments_lexer": "ipython3",
      "nbconvert_exporter": "python",
      "file_extension": ".py"
    },
    "colab": {
      "name": "Lab_05a_linear-regression.ipynb",
      "provenance": [],
      "collapsed_sections": [
        "h0dmV2Fc-7oL"
      ],
      "include_colab_link": true
    }
  },
  "cells": [
    {
      "cell_type": "markdown",
      "metadata": {
        "id": "view-in-github",
        "colab_type": "text"
      },
      "source": [
        "<a href=\"https://colab.research.google.com/github/aks3213/009_AkshayBhanderi/blob/main/Lab_05a_linear_regression.ipynb\" target=\"_parent\"><img src=\"https://colab.research.google.com/assets/colab-badge.svg\" alt=\"Open In Colab\"/></a>"
      ]
    },
    {
      "cell_type": "code",
      "metadata": {
        "_cell_guid": "79c7e3d0-c299-4dcb-8224-4455121ee9b0",
        "_uuid": "d629ff2d2480ee46fbb7e2d37f6b5fab8052498a",
        "trusted": true,
        "id": "v0BtAX1--7l_"
      },
      "source": [
        "# Importing modules\n",
        "import numpy as np"
      ],
      "execution_count": 1,
      "outputs": []
    },
    {
      "cell_type": "markdown",
      "metadata": {
        "_uuid": "34f006aa7eb4bbc683c39b7059021da900180908",
        "id": "tUurNfvF-7mc"
      },
      "source": [
        "A tensor is a number, vector, matrix or any n-dimensional array."
      ]
    },
    {
      "cell_type": "markdown",
      "metadata": {
        "_uuid": "0b65b6bb4d15127b1d51f09abf616cfd29fa48b4",
        "id": "DAOgSWEp-7oF"
      },
      "source": [
        "## Problem Statement"
      ]
    },
    {
      "cell_type": "markdown",
      "metadata": {
        "_uuid": "c1beecda01bc332596edd193cade30006e3f6cbf",
        "id": "-Fi1M6pd-7oJ"
      },
      "source": [
        "We'll create a model that predicts crop yeilds for apples (*target variable*) by looking at the average temperature, rainfall and humidity (*input variables or features*) in different regions. \n",
        "\n",
        "Here's the training data:\n",
        "\n",
        ">Temp | Rain | Humidity | Prediction\n",
        ">--- | --- | --- | ---\n",
        "> 73 | 67 | 43 | 56\n",
        "> 91 | 88 | 64 | 81\n",
        "> 87 | 134 | 58 | 119\n",
        "> 102 | 43 | 37 | 22\n",
        "> 69 | 96 | 70 | 103\n",
        "\n",
        "In a **linear regression** model, each target variable is estimated to be a weighted sum of the input variables, offset by some constant, known as a bias :\n",
        "\n",
        "```\n",
        "yeild_apple  = w11 * temp + w12 * rainfall + w13 * humidity + b1\n",
        "```\n",
        "\n",
        "It means that the yield of apples is a linear or planar function of the temperature, rainfall & humidity.\n",
        "\n",
        "\n",
        "\n",
        "**Our objective**: Find a suitable set of *weights* and *biases* using the training data, to make accurate predictions."
      ]
    },
    {
      "cell_type": "code",
      "metadata": {
        "id": "yEFbxrBPmk8t"
      },
      "source": [
        "#\n",
        "#Training data"
      ],
      "execution_count": null,
      "outputs": []
    },
    {
      "cell_type": "code",
      "metadata": {
        "trusted": true,
        "_uuid": "dfda99005fc6daf3a49ae1cdd427ccac0aa446b1",
        "id": "MaIf33bV-7oN"
      },
      "source": [
        "# Input: temp, rainfall, humidity\n",
        "X = np.array([[73, 67, 43], \n",
        "              [91, 88, 64], \n",
        "              [87, 134, 58], \n",
        "              [102, 43, 37], \n",
        "              [69, 96, 70]], dtype='float32')"
      ],
      "execution_count": 2,
      "outputs": []
    },
    {
      "cell_type": "code",
      "metadata": {
        "trusted": true,
        "_uuid": "bf56faf74f7e29c9ed7523308718a9ab1acc0667",
        "id": "1tnPriBD-7oa"
      },
      "source": [
        "# Output: apples\n",
        "Y = np.array([[56],[81],[119], [22],  [103]], dtype='float32')"
      ],
      "execution_count": 3,
      "outputs": []
    },
    {
      "cell_type": "code",
      "metadata": {
        "id": "IAgiow_dnBVp"
      },
      "source": [
        "# converting inputs and targets to PyTorch tensors.\n",
        "#\n",
        "#The weights and biases can also be represented as matrices, initialized with random values. \n",
        "#The first row of w and the first element of b are use to predict the first target variable i.e. yield for apples\n",
        "#\n",
        "#The model is simply a function that performs a matrix multiplication of the input x and the weights w (transposed) and adds the bias w0 (replicated for each observation)."
      ],
      "execution_count": null,
      "outputs": []
    },
    {
      "cell_type": "code",
      "metadata": {
        "colab": {
          "base_uri": "https://localhost:8080/"
        },
        "id": "PKwdwlJIJbPe",
        "outputId": "9518e196-8c94-4138-f7a5-32ce611eb968"
      },
      "source": [
        "mu = np.mean(X, 0)\n",
        "sigma = np.std(X, 0)\n",
        "\n",
        "#normalizing the input\n",
        "X = (X-mu) / sigma\n",
        "X = np.hstack((np.ones((Y.size,1)),X))\n",
        "print(X.shape)"
      ],
      "execution_count": 4,
      "outputs": [
        {
          "output_type": "stream",
          "name": "stdout",
          "text": [
            "(5, 4)\n"
          ]
        }
      ]
    },
    {
      "cell_type": "code",
      "metadata": {
        "colab": {
          "base_uri": "https://localhost:8080/"
        },
        "id": "OVDUM2JhKFnl",
        "outputId": "fe80d7a4-813b-473a-c270-5373fa268029"
      },
      "source": [
        "\n",
        "# Weights and biases\n",
        "rg = np.random.default_rng(9)\n",
        "w = rg.random((1, 4))\n",
        "print(w)"
      ],
      "execution_count": 5,
      "outputs": [
        {
          "output_type": "stream",
          "name": "stdout",
          "text": [
            "[[0.8702492  0.28681721 0.60314815 0.77753408]]\n"
          ]
        }
      ]
    },
    {
      "cell_type": "code",
      "metadata": {
        "id": "eAFom-78qNZo"
      },
      "source": [
        "#Because we've started with random weights and biases, the model does not perform a good job of predicting the target varaibles."
      ],
      "execution_count": null,
      "outputs": []
    },
    {
      "cell_type": "code",
      "metadata": {
        "id": "yusD1hv0rITY"
      },
      "source": [
        "#\n",
        "#Loss function\n",
        "#\n",
        "#To compare predictions with actual targets\n",
        "  #Calculate the difference between the two matrices (preds and targets)\n",
        "  #Square all elements of the difference matrix to remove negative values.\n",
        "  #Calculate the average of the elements in the resulting matrix.\n",
        "\n",
        "#Result is known as Mean Squared Error(MSE) which is siingle number.\n"
      ],
      "execution_count": 7,
      "outputs": []
    },
    {
      "cell_type": "code",
      "metadata": {
        "trusted": true,
        "_uuid": "dbf5bca8cbf2a3831089b454c70469e3748e9682",
        "id": "_wY9fW06-7p9"
      },
      "source": [
        "# MSE loss function\n",
        "def mse(t1, t2):\n",
        "    diff = t1 - t2\n",
        "    return np.sum(diff * diff) / diff.size"
      ],
      "execution_count": 8,
      "outputs": []
    },
    {
      "cell_type": "code",
      "metadata": {
        "trusted": true,
        "_uuid": "90da6779aad81608c40cdca77c3c04b68a815c11",
        "id": "V__m5zOU-7qH",
        "colab": {
          "base_uri": "https://localhost:8080/"
        },
        "outputId": "bc2ca4c9-b3f3-477e-c5bc-76770531f703"
      },
      "source": [
        "# Compute error\n",
        "preds = model(X,w)\n",
        "cost_initial = mse(preds, Y)\n",
        "print(\"Cost before regression: \",cost_initial)"
      ],
      "execution_count": 12,
      "outputs": [
        {
          "output_type": "stream",
          "name": "stdout",
          "text": [
            "Cost before regression:  6784.529157243995\n"
          ]
        }
      ]
    },
    {
      "cell_type": "code",
      "metadata": {
        "id": "0czgqf14rJCS"
      },
      "source": [
        "# Define the model\n",
        "def model(x,w):\n",
        "    return x @ w.T"
      ],
      "execution_count": 10,
      "outputs": []
    },
    {
      "cell_type": "code",
      "metadata": {
        "id": "FMA4IPjysYhY"
      },
      "source": [
        "#\n",
        "#Computing Gradients\n",
        "#"
      ],
      "execution_count": null,
      "outputs": []
    },
    {
      "cell_type": "code",
      "metadata": {
        "trusted": true,
        "_uuid": "ef66710c6ef1944567c4dc033e1ca316f35490ab",
        "id": "jMUIxzeO-7qW"
      },
      "source": [
        "def gradient_descent(X, y, w, learning_rate, n_iters):\n",
        "    J_history = np.zeros((n_iters,1))\n",
        "    for i in range(n_iters):\n",
        "        h = model(X,w)\n",
        "        diff = h - y\n",
        "        delta = (learning_rate/Y.size)*(X.T@diff)\n",
        "        new_w = w - delta.T\n",
        "        w=new_w\n",
        "        J_history[i] = mse(h, y)\n",
        "    return (J_history, w)"
      ],
      "execution_count": 11,
      "outputs": []
    },
    {
      "cell_type": "code",
      "metadata": {
        "id": "5A7GdPcJoK1Z"
      },
      "source": [
        "#Train for multiple iteration\n",
        "#\n",
        "#To reduce the loss further,repeating the process of adjusting the weights and biases using the gradients multiple times. Each iteration is called an epoch."
      ],
      "execution_count": null,
      "outputs": []
    },
    {
      "cell_type": "code",
      "metadata": {
        "trusted": true,
        "_uuid": "9f5f0ffeee666b30c5828636359f0be6addbef7c",
        "id": "rX0ZllBO-7tJ",
        "colab": {
          "base_uri": "https://localhost:8080/"
        },
        "outputId": "c742994c-bb92-4120-e042-7e9b1414f3ea"
      },
      "source": [
        "import matplotlib.pyplot as plt\n",
        "n_iters = 500\n",
        "learning_rate = 0.01\n",
        "\n",
        "initial_cost = mse(model(X,w),Y)\n",
        "\n",
        "print(\"Initial cost is: \", initial_cost, \"\\n\")\n",
        "\n",
        "(J_history, optimal_params) = gradient_descent(X, Y, w, learning_rate, n_iters)\n",
        "\n",
        "print(\"Optimal parameters are: \\n\", optimal_params, \"\\n\")\n",
        "\n",
        "print(\"Final cost is: \", J_history[-1])\n"
      ],
      "execution_count": 15,
      "outputs": [
        {
          "output_type": "stream",
          "name": "stdout",
          "text": [
            "Initial cost is:  6784.529157243995 \n",
            "\n",
            "Optimal parameters are: \n",
            " [[75.70504738 -4.3389137  23.96753139 10.64849346]] \n",
            "\n",
            "Final cost is:  [3.25867594]\n"
          ]
        }
      ]
    },
    {
      "cell_type": "code",
      "metadata": {
        "colab": {
          "base_uri": "https://localhost:8080/",
          "height": 295
        },
        "id": "O-NfO3OWxjE1",
        "outputId": "450c225d-35b2-4773-a159-b533fc837b6c"
      },
      "source": [
        "plt.plot(range(len(J_history)), J_history, 'r')\n",
        "\n",
        "plt.title(\"Convergence Graph of Cost Function\")\n",
        "plt.xlabel(\"Number of Iterations\")\n",
        "plt.ylabel(\"Cost\")\n",
        "plt.show()"
      ],
      "execution_count": 16,
      "outputs": [
        {
          "output_type": "display_data",
          "data": {
            "image/png": "[encoded data removed]",
            "text/plain": [
              "<Figure size 432x288 with 1 Axes>"
            ]
          },
          "metadata": {
            "needs_background": "light"
          }
        }
      ]
    },
    {
      "cell_type": "code",
      "metadata": {
        "trusted": true,
        "_uuid": "c4820ca48b78f4dc242d80a9ec3ec6aca1aef671",
        "id": "ym2eslp8-7ta",
        "colab": {
          "base_uri": "https://localhost:8080/"
        },
        "outputId": "de8b7cef-dfea-4b65-b247-b9970f7e7d54"
      },
      "source": [
        "# Calculate error\n",
        "preds = model(X,optimal_params)\n",
        "cost_final = mse(preds, Y)\n",
        "# Printing predictions\n",
        "print(\"Prediction:\\n\",preds)\n",
        "# Comparing predicted with targets\n",
        "print(\"Targets:\\n\",Y)"
      ],
      "execution_count": 17,
      "outputs": [
        {
          "output_type": "stream",
          "name": "stdout",
          "text": [
            "Prediction:\n",
            " [[ 55.42476208]\n",
            " [ 83.40170464]\n",
            " [116.01018307]\n",
            " [ 20.95054075]\n",
            " [102.73804566]]\n",
            "Targets:\n",
            " [[ 56.]\n",
            " [ 81.]\n",
            " [119.]\n",
            " [ 22.]\n",
            " [103.]]\n"
          ]
        }
      ]
    },
    {
      "cell_type": "code",
      "metadata": {
        "colab": {
          "base_uri": "https://localhost:8080/"
        },
        "id": "rDpoRp7CpfhQ",
        "outputId": "d9e97328-2148-4117-ac55-6b67a3fd1c19"
      },
      "source": [
        "print(\"Cost after linear regression: \",cost_final)\n",
        "print(\"Cost reduction percentage : {} %\".format(((cost_initial- cost_final)/cost_initial)*100))"
      ],
      "execution_count": 18,
      "outputs": [
        {
          "output_type": "stream",
          "name": "stdout",
          "text": [
            "Cost after linear regression:  3.2416147816952616\n",
            "Cost reduction percentage : 99.95222049008024 %\n"
          ]
        }
      ]
    }
  ]
}