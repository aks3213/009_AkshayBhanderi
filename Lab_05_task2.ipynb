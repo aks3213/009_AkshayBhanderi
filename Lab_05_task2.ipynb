{
  "nbformat": 4,
  "nbformat_minor": 0,
  "metadata": {
    "kernelspec": {
      "display_name": "Python 3",
      "language": "python",
      "name": "python3"
    },
    "language_info": {
      "codemirror_mode": {
        "name": "ipython",
        "version": 3
      },
      "file_extension": ".py",
      "mimetype": "text/x-python",
      "name": "python",
      "nbconvert_exporter": "python",
      "pygments_lexer": "ipython3",
      "version": "3.8.3"
    },
    "colab": {
      "name": "Lab_05_task2.ipynb",
      "provenance": [],
      "include_colab_link": true
    }
  },
  "cells": [
    {
      "cell_type": "markdown",
      "metadata": {
        "id": "view-in-github",
        "colab_type": "text"
      },
      "source": [
        "<a href=\"https://colab.research.google.com/github/aks3213/009_AkshayBhanderi/blob/main/Lab_05_task2.ipynb\" target=\"_parent\"><img src=\"https://colab.research.google.com/assets/colab-badge.svg\" alt=\"Open In Colab\"/></a>"
      ]
    },
    {
      "cell_type": "code",
      "metadata": {
        "id": "-T3p3q2tmb30"
      },
      "source": [
        "#Task2: Try Linear regression on same prediction data using Tensorflow"
      ],
      "execution_count": null,
      "outputs": []
    },
    {
      "cell_type": "code",
      "metadata": {
        "id": "LmJfRlyJZQrC"
      },
      "source": [
        "#importing modules\n",
        "import numpy as np\n",
        "import tensorflow as tf"
      ],
      "execution_count": 1,
      "outputs": []
    },
    {
      "cell_type": "code",
      "metadata": {
        "id": "-5YncrZRZQrH"
      },
      "source": [
        "inputs = np.array([[73, 67, 43], \n",
        "              [91, 88, 64], \n",
        "              [87, 134, 58], \n",
        "              [102, 43, 37], \n",
        "              [69, 96, 70]], dtype='float64')\n",
        "\n",
        "targets = np.array([[56],[81],[119], [22],  [103]], dtype='float64')"
      ],
      "execution_count": 2,
      "outputs": []
    },
    {
      "cell_type": "code",
      "metadata": {
        "colab": {
          "base_uri": "https://localhost:8080/"
        },
        "id": "DVu7ljiDZQrI",
        "outputId": "956c6116-ba50-437a-d2f2-6c74a8a36afc"
      },
      "source": [
        "inputs = tf.Variable(inputs)\n",
        "targets = tf.Variable(targets)\n",
        "print(\"targets :\\n\",targets)"
      ],
      "execution_count": 3,
      "outputs": [
        {
          "output_type": "stream",
          "name": "stdout",
          "text": [
            "targets :\n",
            " <tf.Variable 'Variable:0' shape=(5, 1) dtype=float64, numpy=\n",
            "array([[ 56.],\n",
            "       [ 81.],\n",
            "       [119.],\n",
            "       [ 22.],\n",
            "       [103.]])>\n"
          ]
        }
      ]
    },
    {
      "cell_type": "code",
      "metadata": {
        "colab": {
          "base_uri": "https://localhost:8080/"
        },
        "id": "5wlZ_7VMZQrK",
        "outputId": "6923b210-ec99-4375-b448-9fb0ec26a340"
      },
      "source": [
        "v = np.random.rand(3,2)\n",
        "r = np.random.randn(2)\n",
        "v = tf.Variable(v)\n",
        "r = tf.Variable(r)\n",
        "\n",
        "print(v)\n",
        "print(\"\\n\",r)"
      ],
      "execution_count": 4,
      "outputs": [
        {
          "output_type": "stream",
          "name": "stdout",
          "text": [
            "<tf.Variable 'Variable:0' shape=(3, 2) dtype=float64, numpy=\n",
            "array([[0.23890571, 0.88716575],\n",
            "       [0.7864327 , 0.40382562],\n",
            "       [0.47197161, 0.30813443]])>\n",
            "\n",
            " <tf.Variable 'Variable:0' shape=(2,) dtype=float64, numpy=array([-0.1493077 ,  0.07611572])>\n"
          ]
        }
      ]
    },
    {
      "cell_type": "code",
      "metadata": {
        "id": "E_oL9WFhZQrL"
      },
      "source": [
        "def model(s):\n",
        "    return s @ v + r"
      ],
      "execution_count": 5,
      "outputs": []
    },
    {
      "cell_type": "code",
      "metadata": {
        "colab": {
          "base_uri": "https://localhost:8080/"
        },
        "id": "KbI3OOQmZQrL",
        "outputId": "56bb83ae-80d6-46a6-e4a2-8f63a4500fcb"
      },
      "source": [
        "prediction = model(inputs)\n",
        "print(prediction)"
      ],
      "execution_count": 6,
      "outputs": [
        {
          "output_type": "stream",
          "name": "stdout",
          "text": [
            "tf.Tensor(\n",
            "[[ 90.27657959 105.14531197]\n",
            " [121.00337293 136.06545635]\n",
            " [153.39182473 149.24396521]\n",
            " [ 75.49863083 119.33249721]\n",
            " [124.87073846 121.62722145]], shape=(5, 2), dtype=float64)\n"
          ]
        }
      ]
    },
    {
      "cell_type": "code",
      "metadata": {
        "colab": {
          "base_uri": "https://localhost:8080/"
        },
        "id": "JmIALX3KZQrM",
        "outputId": "1aa66c5d-b832-4bdc-b0e5-c6a8988beb4b"
      },
      "source": [
        "def mse(t1,t2):\n",
        "    return tf.reduce_mean(tf.square(t1 - t2))\n",
        "print(mse(prediction,targets))"
      ],
      "execution_count": 7,
      "outputs": [
        {
          "output_type": "stream",
          "name": "stdout",
          "text": [
            "tf.Tensor(2348.113606003809, shape=(), dtype=float64)\n"
          ]
        }
      ]
    },
    {
      "cell_type": "code",
      "metadata": {
        "colab": {
          "base_uri": "https://localhost:8080/"
        },
        "id": "7qbjDtJ1ZQrN",
        "outputId": "09f3c5d6-3da7-44ee-dc37-605cb3a953b2"
      },
      "source": [
        "epochs = 40\n",
        "for epoch_count in range(epochs):\n",
        "    \n",
        "    with tf.GradientTape(persistent=True) as t:\n",
        "        current_loss = mse(targets, model(inputs))\n",
        "\n",
        "    v1 = t.gradient(current_loss,v)\n",
        "    r1 = t.gradient(current_loss,r)\n",
        "\n",
        "    v.assign_sub(1e-4 * v1)\n",
        "    r.assign_sub(1e-4 * r1)\n",
        "        \n",
        "    print(f\" \\n Epoch count: {epoch_count} \\n Loss value: {current_loss.numpy()}\")\n"
      ],
      "execution_count": 8,
      "outputs": [
        {
          "output_type": "stream",
          "name": "stdout",
          "text": [
            " \n",
            " Epoch count: 0 \n",
            " Loss value: 2348.113606003809\n",
            " \n",
            " Epoch count: 1 \n",
            " Loss value: 1630.1135313779753\n",
            " \n",
            " Epoch count: 2 \n",
            " Loss value: 1161.7580967378437\n",
            " \n",
            " Epoch count: 3 \n",
            " Loss value: 851.9216378380837\n",
            " \n",
            " Epoch count: 4 \n",
            " Loss value: 643.309176420749\n",
            " \n",
            " Epoch count: 5 \n",
            " Loss value: 499.8252925286721\n",
            " \n",
            " Epoch count: 6 \n",
            " Loss value: 398.66782195778535\n",
            " \n",
            " Epoch count: 7 \n",
            " Loss value: 325.37791521597194\n",
            " \n",
            " Epoch count: 8 \n",
            " Loss value: 270.7400492492988\n",
            " \n",
            " Epoch count: 9 \n",
            " Loss value: 228.83977004973272\n",
            " \n",
            " Epoch count: 10 \n",
            " Loss value: 195.84606488406993\n",
            " \n",
            " Epoch count: 11 \n",
            " Loss value: 169.24737384272768\n",
            " \n",
            " Epoch count: 12 \n",
            " Loss value: 147.37167175554904\n",
            " \n",
            " Epoch count: 13 \n",
            " Loss value: 129.08450503351855\n",
            " \n",
            " Epoch count: 14 \n",
            " Loss value: 113.5985684015066\n",
            " \n",
            " Epoch count: 15 \n",
            " Loss value: 100.35324653768384\n",
            " \n",
            " Epoch count: 16 \n",
            " Loss value: 88.93808866096549\n",
            " \n",
            " Epoch count: 17 \n",
            " Loss value: 79.04391056092757\n",
            " \n",
            " Epoch count: 18 \n",
            " Loss value: 70.43130584995107\n",
            " \n",
            " Epoch count: 19 \n",
            " Loss value: 62.91015855275698\n",
            " \n",
            " Epoch count: 20 \n",
            " Loss value: 56.32613476894191\n",
            " \n",
            " Epoch count: 21 \n",
            " Loss value: 50.55162523679858\n",
            " \n",
            " Epoch count: 22 \n",
            " Loss value: 45.47954677979146\n",
            " \n",
            " Epoch count: 23 \n",
            " Loss value: 41.018997546937136\n",
            " \n",
            " Epoch count: 24 \n",
            " Loss value: 37.09212925903789\n",
            " \n",
            " Epoch count: 25 \n",
            " Loss value: 33.63183106251657\n",
            " \n",
            " Epoch count: 26 \n",
            " Loss value: 30.5799652110024\n",
            " \n",
            " Epoch count: 27 \n",
            " Loss value: 27.885986649247446\n",
            " \n",
            " Epoch count: 28 \n",
            " Loss value: 25.50583670111215\n",
            " \n",
            " Epoch count: 29 \n",
            " Loss value: 23.401038009490954\n",
            " \n",
            " Epoch count: 30 \n",
            " Loss value: 21.537941500031582\n",
            " \n",
            " Epoch count: 31 \n",
            " Loss value: 19.887091367554625\n",
            " \n",
            " Epoch count: 32 \n",
            " Loss value: 18.422684003105523\n",
            " \n",
            " Epoch count: 33 \n",
            " Loss value: 17.12210332969574\n",
            " \n",
            " Epoch count: 34 \n",
            " Loss value: 15.965519415050341\n",
            " \n",
            " Epoch count: 35 \n",
            " Loss value: 14.93554024788287\n",
            " \n",
            " Epoch count: 36 \n",
            " Loss value: 14.016908685255155\n",
            " \n",
            " Epoch count: 37 \n",
            " Loss value: 13.196238109786384\n",
            " \n",
            " Epoch count: 38 \n",
            " Loss value: 12.461781472634\n",
            " \n",
            " Epoch count: 39 \n",
            " Loss value: 11.803229266816166\n"
          ]
        }
      ]
    }
  ]
}