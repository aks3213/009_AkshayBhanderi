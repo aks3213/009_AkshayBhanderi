{
  "nbformat": 4,
  "nbformat_minor": 0,
  "metadata": {
    "colab": {
      "name": "Lab_08_K_mean.ipynb",
      "provenance": [],
      "include_colab_link": true
    },
    "kernelspec": {
      "name": "python3",
      "display_name": "Python 3"
    },
    "language_info": {
      "name": "python"
    }
  },
  "cells": [
    {
      "cell_type": "markdown",
      "metadata": {
        "id": "view-in-github",
        "colab_type": "text"
      },
      "source": [
        "<a href=\"https://colab.research.google.com/github/aks3213/009_AkshayBhanderi/blob/main/Lab_08_K_mean.ipynb\" target=\"_parent\"><img src=\"https://colab.research.google.com/assets/colab-badge.svg\" alt=\"Open In Colab\"/></a>"
      ]
    },
    {
      "cell_type": "code",
      "metadata": {
        "id": "-4KrX_bhG1Fz"
      },
      "source": [
        "#importing modules\n",
        "\n",
        "import numpy as np \n",
        "import pandas as pd \n",
        "from sklearn import datasets\n",
        "from sklearn.cluster import KMeans\n",
        "import matplotlib.pyplot as plt"
      ],
      "execution_count": 2,
      "outputs": []
    },
    {
      "cell_type": "code",
      "metadata": {
        "colab": {
          "base_uri": "https://localhost:8080/"
        },
        "id": "dKt_ymCOHAOo",
        "outputId": "0f51b391-eeef-4eea-c711-8eeaa9112839"
      },
      "source": [
        "#preparing dataset\n",
        "\n",
        "dataset=datasets.load_breast_cancer()\n",
        "dataset\n",
        "\n",
        "print(dataset.data.shape)\n",
        "print(dataset.target.shape)"
      ],
      "execution_count": 3,
      "outputs": [
        {
          "output_type": "stream",
          "name": "stdout",
          "text": [
            "(569, 30)\n",
            "(569,)\n"
          ]
        }
      ]
    },
    {
      "cell_type": "code",
      "metadata": {
        "colab": {
          "base_uri": "https://localhost:8080/"
        },
        "id": "cOL6dFuMHEL_",
        "outputId": "2f108387-6f12-44c4-e2cf-22794eee27ee"
      },
      "source": [
        "#k - mean model\n",
        "\n",
        "kmeans = KMeans(n_clusters=10, random_state=9)\n",
        "prediction = kmeans.fit_predict(dataset.data)\n",
        "print(prediction)\n",
        "\n",
        "kmeans.cluster_centers_.shape\n",
        "print(kmeans.cluster_centers_)"
      ],
      "execution_count": 4,
      "outputs": [
        {
          "output_type": "stream",
          "name": "stdout",
          "text": [
            "[1 1 8 2 8 0 8 0 0 0 6 3 3 6 0 6 6 3 4 0 2 7 6 4 4 3 6 3 3 3 8 0 3 1 3 3 0\n",
            " 2 0 0 0 2 8 0 0 8 7 0 2 0 2 0 2 3 6 2 1 6 2 7 7 7 6 7 0 6 7 2 7 2 1 7 8 0\n",
            " 2 3 2 8 8 2 2 2 5 3 2 8 0 8 2 0 0 0 0 0 6 8 2 7 2 0 0 7 2 7 7 0 2 2 4 2 7\n",
            " 2 0 7 7 2 7 6 3 3 2 8 1 0 2 0 0 8 0 8 2 6 3 6 8 2 2 2 6 7 7 3 2 2 7 2 2 0\n",
            " 0 0 2 7 7 7 0 2 3 6 2 2 2 8 4 2 4 0 7 3 8 0 2 6 6 7 7 7 7 6 2 2 5 1 3 2 6\n",
            " 7 3 2 2 2 0 2 7 0 0 2 0 3 8 6 2 3 1 6 2 6 7 3 2 6 8 2 5 6 0 0 2 7 1 4 0 0\n",
            " 7 6 0 0 7 0 2 0 3 2 2 1 7 0 5 1 0 3 0 2 2 0 8 7 2 2 7 2 1 2 1 3 1 0 1 6 3\n",
            " 6 1 3 3 6 3 5 7 0 2 7 0 2 4 7 3 2 2 3 0 0 8 2 8 6 2 2 2 2 7 2 0 0 2 2 2 0\n",
            " 7 2 0 7 1 2 8 7 2 2 2 7 0 0 2 0 2 2 7 2 2 8 7 2 7 8 2 1 2 2 0 2 6 6 6 2 7\n",
            " 2 2 3 2 1 7 5 0 7 7 8 2 7 2 6 2 2 2 6 5 6 2 2 2 0 7 7 2 2 2 6 0 1 8 2 5 4\n",
            " 3 0 8 1 0 6 7 0 0 2 2 7 2 2 2 0 2 0 2 3 7 7 3 1 2 0 0 2 2 2 3 2 2 2 2 2 6\n",
            " 2 3 2 2 2 7 6 6 2 7 8 2 2 2 0 2 0 7 7 7 2 7 2 0 2 8 8 0 0 2 0 0 0 2 3 0 7\n",
            " 3 2 3 0 0 1 2 8 2 0 2 0 2 2 2 7 8 9 0 2 0 0 0 7 3 2 7 2 6 2 7 2 0 0 2 6 2\n",
            " 0 0 0 6 2 0 8 2 6 2 3 3 2 0 0 2 2 8 1 0 0 2 5 7 7 2 7 6 6 2 0 0 0 6 2 8 8\n",
            " 2 2 7 5 7 0 7 7 0 2 0 2 2 2 0 8 7 1 0 2 7 7 2 0 0 2 0 0 7 7 7 2 7 7 2 7 2\n",
            " 7 7 7 0 2 0 7 6 1 1 8 6 1 7]\n",
            "[[1.39387395e+01 1.90294958e+01 9.04831933e+01 6.00262185e+02\n",
            "  9.39314286e-02 1.00406387e-01 7.45220756e-02 4.14941345e-02\n",
            "  1.75155462e-01 6.16680672e-02 3.13209244e-01 1.08587899e+00\n",
            "  2.26420084e+00 2.71161345e+01 5.84906723e-03 2.42642689e-02\n",
            "  2.82606723e-02 1.11375714e-02 1.78284202e-02 3.49648571e-03\n",
            "  1.57033613e+01 2.55010924e+01 1.03702605e+02 7.57455462e+02\n",
            "  1.28325294e-01 2.62771765e-01 2.65218908e-01 1.12402101e-01\n",
            "  2.83356303e-01 8.43820168e-02]\n",
            " [2.04296429e+01 2.21425000e+01 1.35707143e+02 1.29742857e+03\n",
            "  1.03995357e-01 1.65375714e-01 2.06643214e-01 1.13110000e-01\n",
            "  1.95460714e-01 6.16853571e-02 7.54757143e-01 1.11482500e+00\n",
            "  5.28296429e+00 9.85507143e+01 6.81078571e-03 3.44803571e-02\n",
            "  4.70317857e-02 1.59192143e-02 1.85196429e-02 4.16400000e-03\n",
            "  2.51678571e+01 2.91278571e+01 1.68703571e+02 1.93542857e+03\n",
            "  1.44560714e-01 4.11496429e-01 5.19789286e-01 2.14646429e-01\n",
            "  3.17246429e-01 9.11871429e-02]\n",
            " [1.21398295e+01 1.81243750e+01 7.80391477e+01 4.53930682e+02\n",
            "  9.30579545e-02 7.96476705e-02 4.52235324e-02 2.59481023e-02\n",
            "  1.74372727e-01 6.23869886e-02 2.76667614e-01 1.19831080e+00\n",
            "  1.96479489e+00 2.04931250e+01 6.79651136e-03 2.03912898e-02\n",
            "  2.40284352e-02 9.64013636e-03 2.03964205e-02 3.30967330e-03\n",
            "  1.34010227e+01 2.41963068e+01 8.71398295e+01 5.49269318e+02\n",
            "  1.26916705e-01 1.92223466e-01 1.75752653e-01 7.78560852e-02\n",
            "  2.78232386e-01 7.95895455e-02]\n",
            " [1.72662222e+01 2.12826667e+01 1.13766667e+02 9.30031111e+02\n",
            "  9.96044444e-02 1.34278667e-01 1.40752222e-01 8.17808889e-02\n",
            "  1.90786667e-01 6.09995556e-02 5.76202222e-01 1.28895333e+00\n",
            "  4.13328889e+00 6.30108889e+01 6.40597778e-03 3.02990444e-02\n",
            "  3.75984444e-02 1.49950444e-02 2.00477778e-02 4.04933333e-03\n",
            "  2.05342222e+01 2.85542222e+01 1.36617778e+02 1.29620000e+03\n",
            "  1.38425333e-01 3.23276889e-01 3.89095556e-01 1.69770444e-01\n",
            "  3.12826667e-01 8.54171111e-02]\n",
            " [2.06711111e+01 2.24211111e+01 1.37255556e+02 1.35262222e+03\n",
            "  1.02021111e-01 1.57000000e-01 1.99833333e-01 1.11798889e-01\n",
            "  1.85588889e-01 5.92488889e-02 8.65166667e-01 1.09641111e+00\n",
            "  6.24644444e+00 1.18978889e+02 5.32844444e-03 3.21644444e-02\n",
            "  4.18522222e-02 1.46722222e-02 1.71500000e-02 3.28288889e-03\n",
            "  2.77600000e+01 3.11155556e+01 1.87644444e+02 2.36788889e+03\n",
            "  1.45100000e-01 4.05122222e-01 5.34955556e-01 2.21033333e-01\n",
            "  3.19744444e-01 8.65600000e-02]\n",
            " [2.43160000e+01 2.23750000e+01 1.61910000e+02 1.85420000e+03\n",
            "  1.03174000e-01 1.68032000e-01 2.35580000e-01 1.40631000e-01\n",
            "  1.79210000e-01 5.89640000e-02 1.23297000e+00 1.14835000e+00\n",
            "  8.82800000e+00 1.99120000e+02 6.61970000e-03 2.92370000e-02\n",
            "  3.93590000e-02 1.50810000e-02 1.95370000e-02 3.44310000e-03\n",
            "  3.09990000e+01 2.98160000e+01 2.08940000e+02 2.93600000e+03\n",
            "  1.40180000e-01 3.64520000e-01 4.68620000e-01 2.28060000e-01\n",
            "  2.76880000e-01 8.10070000e-02]\n",
            " [1.54638000e+01 2.02392000e+01 1.01397600e+02 7.40524000e+02\n",
            "  1.00539400e-01 1.25822000e-01 1.23348200e-01 6.54630000e-02\n",
            "  1.85918000e-01 6.26102000e-02 3.90868000e-01 1.03997400e+00\n",
            "  2.75976000e+00 3.72140000e+01 6.65860000e-03 2.82472800e-02\n",
            "  3.78898000e-02 1.35351000e-02 1.91477200e-02 3.67792000e-03\n",
            "  1.80026000e+01 2.75786000e+01 1.19620000e+02 9.92134000e+02\n",
            "  1.41392800e-01 3.39973200e-01 3.95144000e-01 1.54146800e-01\n",
            "  3.16380000e-01 9.00534000e-02]\n",
            " [9.87515385e+00 1.78310989e+01 6.31275824e+01 2.99732967e+02\n",
            "  9.64635165e-02 8.09469231e-02 4.46973846e-02 1.89206154e-02\n",
            "  1.83812088e-01 6.83807692e-02 2.95191209e-01 1.51460549e+00\n",
            "  2.02103187e+00 1.79611868e+01 9.95848352e-03 2.56543407e-02\n",
            "  3.31990110e-02 1.02651538e-02 2.54141758e-02 4.97217582e-03\n",
            "  1.08238352e+01 2.29446154e+01 6.97957143e+01 3.58796703e+02\n",
            "  1.31465934e-01 1.64161758e-01 1.40192637e-01 5.34132967e-02\n",
            "  2.73173626e-01 8.52007692e-02]\n",
            " [1.91412500e+01 2.14325000e+01 1.26322500e+02 1.14027500e+03\n",
            "  1.00385250e-01 1.44530500e-01 1.70670250e-01 9.76695000e-02\n",
            "  1.94960000e-01 6.02197500e-02 7.11155000e-01 1.26410750e+00\n",
            "  4.91432500e+00 8.55975000e+01 6.85415000e-03 3.27335000e-02\n",
            "  4.45067500e-02 1.62432000e-02 2.29937500e-02 3.92512500e-03\n",
            "  2.30045000e+01 2.85045000e+01 1.53027500e+02 1.61350000e+03\n",
            "  1.38910000e-01 3.46300000e-01 4.40487500e-01 1.84557500e-01\n",
            "  3.20405000e-01 8.49905000e-02]\n",
            " [2.74200000e+01 2.62700000e+01 1.86900000e+02 2.50100000e+03\n",
            "  1.08400000e-01 1.98800000e-01 3.63500000e-01 1.68900000e-01\n",
            "  2.06100000e-01 5.62300000e-02 2.54700000e+00 1.30600000e+00\n",
            "  1.86500000e+01 5.42200000e+02 7.65000000e-03 5.37400000e-02\n",
            "  8.05500000e-02 2.59800000e-02 1.69700000e-02 4.55800000e-03\n",
            "  3.60400000e+01 3.13700000e+01 2.51200000e+02 4.25400000e+03\n",
            "  1.35700000e-01 4.25600000e-01 6.83300000e-01 2.62500000e-01\n",
            "  2.64100000e-01 7.42700000e-02]]\n"
          ]
        }
      ]
    },
    {
      "cell_type": "code",
      "metadata": {
        "colab": {
          "base_uri": "https://localhost:8080/",
          "height": 197
        },
        "id": "cHpHGuwjHNOR",
        "outputId": "7b284288-8941-4501-93da-916906733c96"
      },
      "source": [
        "#scatter plot of data points\n",
        "\n",
        "import matplotlib.pyplot as plt\n",
        "fig, ax = plt.subplots(2, 5, figsize=(8, 3))\n",
        "centers = kmeans.cluster_centers_.reshape(10, 6, 5)\n",
        "for axi, center in zip(ax.flat, centers):\n",
        "  axi.set(xticks=[], yticks=[])\n",
        "  axi.imshow(center, interpolation='nearest', cmap=plt.cm.binary)\n",
        "\n"
      ],
      "execution_count": 5,
      "outputs": [
        {
          "output_type": "display_data",
          "data": {
            "image/png": "[encoded data removed]",
            "text/plain": [
              "<Figure size 576x216 with 10 Axes>"
            ]
          },
          "metadata": {}
        }
      ]
    },
    {
      "cell_type": "code",
      "metadata": {
        "id": "yfKh_uVFHje7"
      },
      "source": [
        "from scipy.stats import mode\n",
        "\n",
        "labels = np.zeros_like(prediction)\n",
        "\n",
        "for i in range(10):\n",
        "  mask = (prediction == i)\n",
        "  labels[mask] = mode(dataset.target[mask])[0]"
      ],
      "execution_count": 6,
      "outputs": []
    },
    {
      "cell_type": "code",
      "metadata": {
        "colab": {
          "base_uri": "https://localhost:8080/"
        },
        "id": "dsDexV2cHq8z",
        "outputId": "18d38d57-8f7d-4bca-89bb-f3faf286b9ad"
      },
      "source": [
        "from sklearn.metrics import accuracy_score\n",
        "\n",
        "accuracy_score(dataset.target, labels)"
      ],
      "execution_count": 7,
      "outputs": [
        {
          "output_type": "execute_result",
          "data": {
            "text/plain": [
              "0.9068541300527241"
            ]
          },
          "metadata": {},
          "execution_count": 7
        }
      ]
    },
    {
      "cell_type": "code",
      "metadata": {
        "colab": {
          "base_uri": "https://localhost:8080/",
          "height": 279
        },
        "id": "UI7cyY-KHuFO",
        "outputId": "4fc9307d-418e-48eb-ee2f-4c3805b7b6ad"
      },
      "source": [
        "from sklearn.metrics import confusion_matrix\n",
        "import seaborn as sns\n",
        "\n",
        "mat = confusion_matrix(dataset.target, labels)\n",
        "ax = sns.heatmap(mat.T, square=True, annot=True, fmt='d', cbar=False,xticklabels=dataset.target_names,yticklabels=dataset.target_names)\n",
        "\n",
        "#ax.set_ylim(10,10)\n",
        "plt.xlabel('true label')\n",
        "plt.ylabel('predicted label');"
      ],
      "execution_count": 8,
      "outputs": [
        {
          "output_type": "display_data",
          "data": {
            "image/png": "[encoded data removed]",
            "text/plain": [
              "<Figure size 432x288 with 1 Axes>"
            ]
          },
          "metadata": {
            "needs_background": "light"
          }
        }
      ]
    }
  ]
}